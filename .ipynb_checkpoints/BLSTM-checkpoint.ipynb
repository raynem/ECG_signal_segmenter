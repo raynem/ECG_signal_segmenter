{
 "cells": [
  {
   "cell_type": "code",
   "execution_count": 5,
   "metadata": {
    "colab": {
     "autoexec": {
      "startup": false,
      "wait_interval": 0
     },
     "base_uri": "https://localhost:8080/",
     "height": 35
    },
    "colab_type": "code",
    "executionInfo": {
     "elapsed": 2400,
     "status": "ok",
     "timestamp": 1526362302156,
     "user": {
      "displayName": "Dmytro Fedoriuk",
      "photoUrl": "https://lh3.googleusercontent.com/a/default-user=s128",
      "userId": "109325207910192215644"
     },
     "user_tz": -180
    },
    "id": "WPjbRa1A_yM4",
    "outputId": "973aecf5-9bb8-40f1-9b80-958acd2012f5"
   },
   "outputs": [
    {
     "name": "stderr",
     "output_type": "stream",
     "text": [
      "Using TensorFlow backend.\n"
     ]
    }
   ],
   "source": [
    "import matplotlib \n",
    "import matplotlib.pyplot as plt\n",
    "import csv\n",
    "import wfdb \n",
    "import os\n",
    "import numpy as np\n",
    "import math\n",
    "import sys\n",
    "import scipy.stats as st\n",
    "import scipy.signal\n",
    "import glob, os\n",
    "from os.path import basename\n",
    "from keras.utils import np_utils\n",
    "from keras.models import Sequential\n",
    "from keras.layers import Dropout\n",
    "from keras.layers import TimeDistributed\n",
    "from keras.layers import Bidirectional\n",
    "from keras.constraints import maxnorm\n",
    "from keras.layers import Activation\n",
    "from keras.optimizers import SGD, adam, RMSprop\n",
    "from keras.layers.convolutional import Conv1D\n",
    "from keras.layers.normalization import BatchNormalization\n",
    "from keras.layers import Input, Dense, MaxPooling1D, UpSampling1D, AveragePooling1D, Flatten\n",
    "from keras.models import Model\n",
    "from sklearn.preprocessing import MultiLabelBinarizer\n",
    "from keras.layers import Dense\n",
    "from keras.layers import LSTM\n",
    "from keras.layers.embeddings import Embedding\n",
    "from keras.preprocessing import sequence\n",
    "from sklearn.metrics import accuracy_score\n",
    "from keras.callbacks import ModelCheckpoint, ReduceLROnPlateau"
   ]
  },
  {
   "cell_type": "code",
   "execution_count": 0,
   "metadata": {
    "colab": {
     "autoexec": {
      "startup": false,
      "wait_interval": 0
     }
    },
    "colab_type": "code",
    "id": "Dunnbh1N_yNY"
   },
   "outputs": [],
   "source": [
    "def getIndexes(annotation):\n",
    "    n_index = [i for i, a in zip(annotation.sample, annotation.symbol) if a == 'N' ] # [1,0,0]\n",
    "    p1_index = [i for i, a in zip(annotation.sample, annotation.symbol) if a == '('] # [0,1,0]\n",
    "    p2_index = [i for i, a in zip(annotation.sample, annotation.symbol) if a == ')'] # [0,0,1]\n",
    "    t_index = [i for i, a in zip(annotation.sample, annotation.symbol) if a == 't']  # [1,0,1]\n",
    "    p_index = [i for i, a in zip(annotation.sample, annotation.symbol) if a == 'p']  # [1,1,0]\n",
    "    \n",
    "    return n_index, p1_index, p2_index, t_index, p_index \n",
    "\n",
    "def clearRecords(n_index, p1_index, p2_index, t_index, p_index, minx, maxx):\n",
    "    buf = 0\n",
    "    indexes = []\n",
    "    for i, val in enumerate(np.arange(minx, maxx)):\n",
    "        if (val not in n_index) and (val not in p1_index) and (val not in p2_index)\\\n",
    "            and (val not in t_index) and (val not in p_index):\n",
    "            buf += 1\n",
    "        else:\n",
    "            buf = 0\n",
    "        if buf >= 30:\n",
    "            indexes.append(i)\n",
    "            \n",
    "    return indexes\n",
    "\n",
    "def getTrainData(X,Y, n_index, p1_index, p2_index, t_index, p_index):\n",
    "    result = []\n",
    "    start, end, label = 0, 0, 0\n",
    "    buffer = False\n",
    "    \n",
    "    for idx, i in enumerate(X): \n",
    "        if i in p1_index:\n",
    "            start = idx\n",
    "            buffer = True\n",
    "        elif i in p_index:\n",
    "            label = 1\n",
    "        elif i in p2_index and buffer:\n",
    "            end = idx\n",
    "            for j in range(0, (end - start) + 1):\n",
    "                result.append([label])\n",
    "            start = 0\n",
    "            end = 0\n",
    "            buffer = False\n",
    "        elif i in n_index:\n",
    "            label = 2\n",
    "        elif i in t_index:\n",
    "            if not buffer:\n",
    "                start = idx\n",
    "                buffer = True\n",
    "            label = 3\n",
    "        elif not buffer: \n",
    "            result.append([0])\n",
    "            \n",
    "    return result\n",
    "\n",
    "def ShowFigure(X,Y, n_index, p1_index, p2_index, t_index, p_index):\n",
    "    plt.figure(figsize=(15,5))\n",
    "    plt.plot(X, Y)\n",
    "    for n in p1_index:\n",
    "        plt.axvline(n, color = 'red')\n",
    "    for n in p2_index:\n",
    "        plt.axvline(n, color = 'green')\n",
    "    for n in n_index:\n",
    "        plt.axvline(n, color = 'black')\n",
    "    for n in t_index:\n",
    "        plt.axvline(n, color = 'yellow')\n",
    "    for n in p_index:\n",
    "        plt.axvline(n, color = 'pink')\n",
    "    plt.show()\n",
    "    \n",
    "def window(sequence, winSize, step):\n",
    "    numOfChunks = ((len(sequence)-winSize)//step)+1\n",
    "    for i in range(0,numOfChunks*step,step):      \n",
    "        yield sequence[i:i+winSize]\n",
    "\n",
    "def noiseGet(data):\n",
    "  timeseries = []\n",
    "  for dd in data:\n",
    "      try:\n",
    "          d = float(dd.split(' ')[1])\n",
    "      except:\n",
    "          continue\n",
    "      timeseries.append(d)\n",
    "  timeseries_decimate = scipy.signal.decimate(np.array(timeseries), 8)\n",
    "  \n",
    "  return timeseries_decimate\n",
    "\n",
    "        \n",
    "def recordProc(records):\n",
    "    recordsList = list()\n",
    "    for record in records:\n",
    "#         recordname = '/ecg/' + record\n",
    "#         annotation = wfdb.rdann(recordname, 'q1c')\n",
    "        annotation = wfdb.rdann(record, 'q1c',pb_dir='qtdb')\n",
    "        minx, maxx = np.min(annotation.sample),np.max(annotation.sample)\n",
    "        rec = wfdb.rdsamp(record, sampfrom=minx, sampto = maxx, pb_dir='qtdb')[0]\n",
    "        annotation = wfdb.rdann(record, 'q1c',sampfrom=minx, sampto = maxx, pb_dir='qtdb')\n",
    "\n",
    "        n_index, p1_index, p2_index, t_index, p_index = getIndexes(annotation) \n",
    "        indexes = clearRecords(n_index, p1_index, p2_index, t_index, p_index, minx, maxx)\n",
    "\n",
    "        X = np.delete(np.arange(minx, maxx), indexes)\n",
    "        Y = np.delete(rec[:, 0], indexes)\n",
    "        result = getTrainData(X,Y, n_index, p1_index, p2_index, t_index, p_index)\n",
    "        result = list(zip(Y,result))\n",
    "        for i in window(result,signal_range,step):\n",
    "            recordsList.extend(i)       \n",
    "    return recordsList"
   ]
  },
  {
   "cell_type": "code",
   "execution_count": 9,
   "metadata": {
    "colab": {
     "autoexec": {
      "startup": false,
      "wait_interval": 0
     },
     "base_uri": "https://localhost:8080/",
     "height": 74
    },
    "colab_type": "code",
    "executionInfo": {
     "elapsed": 72241,
     "status": "ok",
     "timestamp": 1526362428202,
     "user": {
      "displayName": "Dmytro Fedoriuk",
      "photoUrl": "https://lh3.googleusercontent.com/a/default-user=s128",
      "userId": "109325207910192215644"
     },
     "user_tz": -180
    },
    "id": "72yS1MfD_yNn",
    "outputId": "a06e07d0-37bd-4d4f-e930-449fd5898c1a"
   },
   "outputs": [
    {
     "name": "stderr",
     "output_type": "stream",
     "text": [
      "/usr/local/lib/python3.6/dist-packages/scipy/signal/signaltools.py:3402: FutureWarning:  Note: Decimate's zero_phase keyword argument will default to True in a future release. Until then, decimate defaults to one-way filtering for backwards compatibility. Ideally, always set this argument explicitly.\n",
      "  \"explicitly.\", FutureWarning)\n"
     ]
    }
   ],
   "source": [
    "data_noise = open('make_noisy_ecg/emg_healthy.txt', encoding = \"ISO-8859-1\").readlines()\n",
    "\n",
    "records = ['sel100','sel114','sel16265','sel16272','sel16273','sel16420','sel16483','sel213','sel233','sel302','sel306',\n",
    "           'sel308','sel803','sel811','sel820','sel847','sel853','sel871','sel872','sel873','sel883','sel891',\n",
    "           'sele0110','sele0121','sele0129','sele0133','sele0170','sele0203','sele0405','sele0411',\n",
    "           'sele0509','sele0606'\n",
    "          ]\n",
    "signal_range = 1000\n",
    "step = 10\n",
    "noise = noiseGet(data_noise)\n",
    "data = list(zip(*recordProc(records)))\n",
    "X_t, Y_t = np.array(data[0]), MultiLabelBinarizer().fit_transform(data[1])\n",
    "\n",
    "s = 0\n",
    "for i in range(0, len(X_t), 1000):\n",
    "    try:\n",
    "        X_t[i:i+1000] = X_t[i:i+1000] + noise[s:s+1000]\n",
    "        s += 100\n",
    "    except:\n",
    "      s = 0\n",
    "      continue"
   ]
  },
  {
   "cell_type": "code",
   "execution_count": 0,
   "metadata": {
    "colab": {
     "autoexec": {
      "startup": false,
      "wait_interval": 0
     }
    },
    "colab_type": "code",
    "id": "DaXzLJVk_yN2"
   },
   "outputs": [],
   "source": [
    "X = np.reshape(X_t, (-1,1))"
   ]
  },
  {
   "cell_type": "code",
   "execution_count": 0,
   "metadata": {
    "colab": {
     "autoexec": {
      "startup": false,
      "wait_interval": 0
     }
    },
    "colab_type": "code",
    "id": "zOsQ7dqk_yN2"
   },
   "outputs": [],
   "source": [
    "from sklearn.preprocessing import StandardScaler\n",
    "scaler = StandardScaler()\n",
    "data = scaler.fit_transform(X)"
   ]
  },
  {
   "cell_type": "code",
   "execution_count": 0,
   "metadata": {
    "colab": {
     "autoexec": {
      "startup": false,
      "wait_interval": 0
     }
    },
    "colab_type": "code",
    "id": "U_Gaapls_yOG"
   },
   "outputs": [],
   "source": [
    "X = np.reshape(data, (int(len(data) / signal_range), signal_range,1))\n",
    "Y = np.reshape(Y_t, (int(len(Y_t) / signal_range), signal_range, 4))"
   ]
  },
  {
   "cell_type": "code",
   "execution_count": 13,
   "metadata": {
    "colab": {
     "autoexec": {
      "startup": false,
      "wait_interval": 0
     },
     "base_uri": "https://localhost:8080/",
     "height": 35
    },
    "colab_type": "code",
    "executionInfo": {
     "elapsed": 656,
     "status": "ok",
     "timestamp": 1526362435153,
     "user": {
      "displayName": "Dmytro Fedoriuk",
      "photoUrl": "https://lh3.googleusercontent.com/a/default-user=s128",
      "userId": "109325207910192215644"
     },
     "user_tz": -180
    },
    "id": "n2RMsLHI_yOW",
    "outputId": "d8337e78-4294-4997-fabc-bb37e9e83b77"
   },
   "outputs": [
    {
     "data": {
      "text/plain": [
       "((13772, 1000, 1), (13772, 1000, 4))"
      ]
     },
     "execution_count": 13,
     "metadata": {
      "tags": []
     },
     "output_type": "execute_result"
    }
   ],
   "source": [
    "X.shape, Y.shape"
   ]
  },
  {
   "cell_type": "code",
   "execution_count": 14,
   "metadata": {
    "colab": {
     "autoexec": {
      "startup": false,
      "wait_interval": 0
     },
     "base_uri": "https://localhost:8080/",
     "height": 35
    },
    "colab_type": "code",
    "executionInfo": {
     "elapsed": 814,
     "status": "ok",
     "timestamp": 1526362436846,
     "user": {
      "displayName": "Dmytro Fedoriuk",
      "photoUrl": "https://lh3.googleusercontent.com/a/default-user=s128",
      "userId": "109325207910192215644"
     },
     "user_tz": -180
    },
    "id": "qISXSzb0_yOm",
    "outputId": "3caa6333-ecf9-4ca9-9f6e-77cf694e10f3"
   },
   "outputs": [
    {
     "data": {
      "text/plain": [
       "((11017, 1000, 1), (2755, 1000, 1), (11017, 1000, 4), (2755, 1000, 4))"
      ]
     },
     "execution_count": 14,
     "metadata": {
      "tags": []
     },
     "output_type": "execute_result"
    }
   ],
   "source": [
    "train_size = int(X.shape[0] * 0.80)\n",
    "indices = np.random.RandomState(seed=42).permutation(X.shape[0])\n",
    "training_idxy, test_idxy = indices[:train_size], indices[train_size:]\n",
    "X_train, X_test = X[training_idxy,:,:], X[test_idxy,:,:]\n",
    "Y_train, Y_test = Y[training_idxy,:,:], Y[test_idxy,:,:]\n",
    "\n",
    "X_train.shape, X_test.shape, Y_train.shape, Y_test.shape"
   ]
  },
  {
   "cell_type": "code",
   "execution_count": 15,
   "metadata": {
    "colab": {
     "autoexec": {
      "startup": false,
      "wait_interval": 0
     },
     "base_uri": "https://localhost:8080/",
     "height": 126
    },
    "colab_type": "code",
    "executionInfo": {
     "elapsed": 14443,
     "status": "ok",
     "timestamp": 1526362452087,
     "user": {
      "displayName": "Dmytro Fedoriuk",
      "photoUrl": "https://lh3.googleusercontent.com/a/default-user=s128",
      "userId": "109325207910192215644"
     },
     "user_tz": -180
    },
    "id": "ZCCGjcdy_yO1",
    "outputId": "e07894ad-9852-43f7-9385-ae750e05fce9"
   },
   "outputs": [
    {
     "name": "stdout",
     "output_type": "stream",
     "text": [
      "Build model\n",
      "Load weights...\n",
      "Evaluating...\n",
      "2755/2755 [==============================] - 14s 5ms/step\n",
      "Test score: 0.11090488630446678\n",
      "Test accuracy: 0.9547804021575707\n"
     ]
    }
   ],
   "source": [
    "checkpointer = ModelCheckpoint(filepath=\"blstm.hdf5\", verbose=0, save_best_only=True)\n",
    "\n",
    "print('Build model')\n",
    "model = Sequential()\n",
    "model.add(Bidirectional(LSTM(32, activation='tanh', return_sequences=True), input_shape=(1000, 1), merge_mode='concat'))\n",
    "model.add(TimeDistributed(Dense(4, activation='softmax')))\n",
    "\t\n",
    "model.compile(loss='binary_crossentropy',\n",
    "              optimizer='RMSprop',\n",
    "              metrics=['accuracy'])\n",
    "\n",
    "print('Load weights...')\n",
    "model.load_weights('blstm.hdf5')\n",
    "\n",
    "# print('Training...')\n",
    "\n",
    "# history = model.fit(X_train, Y_train, \n",
    "#               epochs = 100, \n",
    "#               batch_size = 64, \n",
    "#               validation_data=(X_test, Y_test),\n",
    "#               callbacks=[checkpointer])\n",
    "\n",
    "\n",
    "print('Evaluating...')\n",
    "score, acc = model.evaluate(X_test, Y_test)\n",
    "print('Test score:', score)\n",
    "print('Test accuracy:', acc)\n",
    "\n",
    "\n",
    "\n"
   ]
  },
  {
   "cell_type": "code",
   "execution_count": 18,
   "metadata": {
    "colab": {
     "autoexec": {
      "startup": false,
      "wait_interval": 0
     },
     "base_uri": "https://localhost:8080/",
     "height": 405
    },
    "colab_type": "code",
    "executionInfo": {
     "elapsed": 2946,
     "status": "ok",
     "timestamp": 1526362518049,
     "user": {
      "displayName": "Dmytro Fedoriuk",
      "photoUrl": "https://lh3.googleusercontent.com/a/default-user=s128",
      "userId": "109325207910192215644"
     },
     "user_tz": -180
    },
    "id": "Vco8OXsPCN0n",
    "outputId": "32eb1597-7a3b-4237-f5c9-b64216350dec"
   },
   "outputs": [
    {
     "data": {
      "image/png": "[encoded data removed]",
      "text/plain": [
       "<matplotlib.figure.Figure at 0x7f560b915898>"
      ]
     },
     "metadata": {
      "tags": []
     },
     "output_type": "display_data"
    },
    {
     "data": {
      "image/png": "[encoded data removed]",
      "text/plain": [
       "<matplotlib.figure.Figure at 0x7f560b41aa20>"
      ]
     },
     "metadata": {
      "tags": []
     },
     "output_type": "display_data"
    }
   ],
   "source": [
    "alpha = 0.15\n",
    "sample = 1\n",
    "plt.figure(figsize=(8,3))\n",
    "plt.plot(np.arange(0, 1000), X_test[sample,:,:])\n",
    "for i,v in enumerate(Y_test[sample,:,:]):\n",
    "      if list(v) == [ 0,  0,  0,  1]:\n",
    "          plt.axvline(i, color = 'yellow', alpha=alpha)\n",
    "      if list(v) == [ 0,  0,  1,  0]:\n",
    "          plt.axvline(i, color = 'black', alpha=alpha)\n",
    "      if list(v) == [ 0,  1,  0,  0]:\n",
    "          plt.axvline(i, color = 'red', alpha=alpha)\n",
    "      if list(v) == [ 1,  0,  0,  0]:\n",
    "          continue\n",
    "\n",
    "plt.figure(figsize=(8,3))\n",
    "plt.plot(np.arange(0, 1000), X_test[sample,:,:])\n",
    "pred = model.predict(np.array([X_test[sample,:,:]]))[0]\n",
    "pred = np.rint(pred)\n",
    "\n",
    "for i,v in enumerate(pred):\n",
    "      if list(v) == [ 0.,  0.,  0.,  1.]:\n",
    "          plt.axvline(i, color = 'yellow', alpha=alpha)\n",
    "      if list(v) == [ 0.,  0.,  1.,  0.]:\n",
    "          plt.axvline(i, color = 'black', alpha=alpha)\n",
    "      if list(v) == [ 0.,  1.,  0.,  0.]:\n",
    "          plt.axvline(i, color = 'red', alpha=alpha)\n",
    "      if list(v) == [ 1.,  0.,  0.,  0.]:\n",
    "         continue\n",
    "\n",
    "plt.show()\n",
    "plt.show()"
   ]
  }
 ],
 "metadata": {
  "colab": {
   "collapsed_sections": [],
   "default_view": {},
   "name": "BLSTM.ipynb",
   "provenance": [],
   "version": "0.3.2",
   "views": {}
  },
  "kernelspec": {
   "display_name": "Python 3",
   "language": "python",
   "name": "python3"
  },
  "language_info": {
   "codemirror_mode": {
    "name": "ipython",
    "version": 3
   },
   "file_extension": ".py",
   "mimetype": "text/x-python",
   "name": "python",
   "nbconvert_exporter": "python",
   "pygments_lexer": "ipython3",
   "version": "3.6.5"
  }
 },
 "nbformat": 4,
 "nbformat_minor": 1
}
