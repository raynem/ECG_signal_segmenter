{
 "cells": [
  {
   "cell_type": "code",
   "execution_count": 1,
   "metadata": {
    "colab": {
     "autoexec": {
      "startup": false,
      "wait_interval": 0
     },
     "base_uri": "https://localhost:8080/",
     "height": 34
    },
    "colab_type": "code",
    "executionInfo": {
     "elapsed": 1918,
     "status": "ok",
     "timestamp": 1526146789380,
     "user": {
      "displayName": "Vlad Herasymiuk",
      "photoUrl": "//lh3.googleusercontent.com/-y3mWflDR-xA/AAAAAAAAAAI/AAAAAAAALRY/xUFHBVW8FlY/s50-c-k-no/photo.jpg",
      "userId": "110982600945200385791"
     },
     "user_tz": -180
    },
    "id": "6s_T0VPgkXFt",
    "outputId": "dcdb4c9f-b263-44b1-99df-f7295c6201eb"
   },
   "outputs": [
    {
     "name": "stderr",
     "output_type": "stream",
     "text": [
      "/Users/raynem_0/anaconda3/lib/python3.6/site-packages/h5py/__init__.py:36: FutureWarning: Conversion of the second argument of issubdtype from `float` to `np.floating` is deprecated. In future, it will be treated as `np.float64 == np.dtype(float).type`.\n",
      "  from ._conv import register_converters as _register_converters\n",
      "Using TensorFlow backend.\n"
     ]
    }
   ],
   "source": [
    "import matplotlib \n",
    "import matplotlib.pyplot as plt\n",
    "import csv\n",
    "import wfdb \n",
    "import os\n",
    "import numpy as np\n",
    "import math\n",
    "import sys\n",
    "from keras.constraints import maxnorm\n",
    "from keras.layers import Activation\n",
    "from keras.layers.convolutional import Conv1D\n",
    "from keras.layers.normalization import BatchNormalization\n",
    "from keras.layers import Input, Dense, MaxPooling1D, UpSampling1D, TimeDistributed, GlobalAveragePooling1D, Flatten\n",
    "from keras.models import Model\n",
    "from sklearn.preprocessing import MultiLabelBinarizer\n",
    "from sklearn.preprocessing import StandardScaler\n",
    "from sklearn.utils import class_weight\n",
    "from keras import optimizers\n",
    "from keras.regularizers import l2 \n",
    "from keras.layers import Input, Dense, Convolution1D, MaxPooling1D, UpSampling1D\n",
    "from keras.models import Model\n",
    "from sklearn.metrics import accuracy_score\n",
    "from sklearn.metrics import accuracy_score\n",
    "from keras.callbacks import ModelCheckpoint, ReduceLROnPlateau, CSVLogger\n",
    "import scipy.signal"
   ]
  },
  {
   "cell_type": "code",
   "execution_count": 2,
   "metadata": {
    "colab": {
     "autoexec": {
      "startup": false,
      "wait_interval": 0
     }
    },
    "colab_type": "code",
    "id": "E1Bf20ZhkXFv"
   },
   "outputs": [],
   "source": [
    "def getIndexes(annotation):\n",
    "    n_index = [i for i, a in zip(annotation.sample, annotation.symbol) if a == 'N' ] # [1,0,0]\n",
    "    p1_index = [i for i, a in zip(annotation.sample, annotation.symbol) if a == '('] # [0,1,0]\n",
    "    p2_index = [i for i, a in zip(annotation.sample, annotation.symbol) if a == ')'] # [0,0,1]\n",
    "    t_index = [i for i, a in zip(annotation.sample, annotation.symbol) if a == 't']  # [1,0,1]\n",
    "    p_index = [i for i, a in zip(annotation.sample, annotation.symbol) if a == 'p']  # [1,1,0]\n",
    "    \n",
    "    return n_index, p1_index, p2_index, t_index, p_index \n",
    "\n",
    "def clearRecords(n_index, p1_index, p2_index, t_index, p_index, minx, maxx):\n",
    "    buf = 0\n",
    "    indexes = []\n",
    "    for i, val in enumerate(np.arange(minx, maxx)):\n",
    "        if (val not in n_index) and (val not in p1_index) and (val not in p2_index)\\\n",
    "            and (val not in t_index) and (val not in p_index):\n",
    "            buf += 1\n",
    "        else:\n",
    "            buf = 0\n",
    "        if buf >= 30:\n",
    "            indexes.append(i)\n",
    "            \n",
    "    return indexes\n",
    "\n",
    "def getTrainData(X,Y, n_index, p1_index, p2_index, t_index, p_index):\n",
    "    result = []\n",
    "    start, end, label = 0, 0, 0\n",
    "    buffer = False\n",
    "    \n",
    "    for idx, i in enumerate(X): \n",
    "        if i in p1_index:\n",
    "            start = idx\n",
    "            buffer = True\n",
    "        elif i in p_index:\n",
    "            label = 1\n",
    "        elif i in p2_index and buffer:\n",
    "            end = idx\n",
    "            for j in range(0, (end - start) + 1):\n",
    "                result.append([label])\n",
    "            start = 0\n",
    "            end = 0\n",
    "            buffer = False\n",
    "        elif i in n_index:\n",
    "            label = 2\n",
    "        elif i in t_index:\n",
    "            if not buffer:\n",
    "                start = idx\n",
    "                buffer = True\n",
    "            label = 3\n",
    "        elif not buffer: \n",
    "            result.append([0])\n",
    "            \n",
    "    return result\n",
    "\n",
    "def ShowFigure(X,Y, n_index, p1_index, p2_index, t_index, p_index):\n",
    "    plt.figure(figsize=(15,5))\n",
    "    plt.plot(X, Y)\n",
    "    for n in p1_index:\n",
    "        plt.axvline(n, color = 'red')\n",
    "    for n in p2_index:\n",
    "        plt.axvline(n, color = 'green')\n",
    "    for n in n_index:\n",
    "        plt.axvline(n, color = 'black')\n",
    "    for n in t_index:\n",
    "        plt.axvline(n, color = 'yellow')\n",
    "    for n in p_index:\n",
    "        plt.axvline(n, color = 'pink')\n",
    "    plt.show()\n",
    "    \n",
    "def window(sequence, winSize, step):\n",
    "    numOfChunks = ((len(sequence)-winSize)//step)+1\n",
    "    for i in range(0,numOfChunks*step,step):      \n",
    "        yield sequence[i:i+winSize]\n",
    "\n",
    "def noiseGet(data):\n",
    "  timeseries = []\n",
    "  for dd in data:\n",
    "      try:\n",
    "          d = float(dd.split(' ')[1])\n",
    "      except:\n",
    "          continue\n",
    "      timeseries.append(d)\n",
    "  timeseries_decimate = scipy.signal.decimate(np.array(timeseries), 8)\n",
    "  \n",
    "  return timeseries_decimate\n",
    "\n",
    "        \n",
    "def recordProc(records):\n",
    "    recordsList = list()\n",
    "    for record in records:\n",
    "#         recordname = '/ecg/' + record\n",
    "#         annotation = wfdb.rdann(recordname, 'q1c')\n",
    "        annotation = wfdb.rdann(record, 'q1c',pb_dir='qtdb')\n",
    "        minx, maxx = np.min(annotation.sample),np.max(annotation.sample)\n",
    "        rec = wfdb.rdsamp(record, sampfrom=minx, sampto = maxx, pb_dir='qtdb')[0]\n",
    "        annotation = wfdb.rdann(record, 'q1c',sampfrom=minx, sampto = maxx, pb_dir='qtdb')\n",
    "\n",
    "        n_index, p1_index, p2_index, t_index, p_index = getIndexes(annotation) \n",
    "        indexes = clearRecords(n_index, p1_index, p2_index, t_index, p_index, minx, maxx)\n",
    "\n",
    "        X = np.delete(np.arange(minx, maxx), indexes)\n",
    "        Y = np.delete(rec[:, 0], indexes)\n",
    "        result = getTrainData(X,Y, n_index, p1_index, p2_index, t_index, p_index)\n",
    "        result = list(zip(Y,result))\n",
    "        for i in window(result,signal_range,step):\n",
    "            recordsList.extend(i)       \n",
    "    return recordsList\n",
    "\n"
   ]
  },
  {
   "cell_type": "code",
   "execution_count": 3,
   "metadata": {
    "colab": {
     "autoexec": {
      "startup": false,
      "wait_interval": 0
     },
     "base_uri": "https://localhost:8080/",
     "height": 105
    },
    "colab_type": "code",
    "executionInfo": {
     "elapsed": 146628,
     "status": "ok",
     "timestamp": 1526146945687,
     "user": {
      "displayName": "Vlad Herasymiuk",
      "photoUrl": "//lh3.googleusercontent.com/-y3mWflDR-xA/AAAAAAAAAAI/AAAAAAAALRY/xUFHBVW8FlY/s50-c-k-no/photo.jpg",
      "userId": "110982600945200385791"
     },
     "user_tz": -180
    },
    "id": "CIK2G1USkXFx",
    "outputId": "b011589e-b4d8-4d9a-cb57-7e5e1e7da3bc"
   },
   "outputs": [
    {
     "name": "stdout",
     "output_type": "stream",
     "text": [
      "CPU times: user 29.7 s, sys: 1.35 s, total: 31 s\n",
      "Wall time: 2min 59s\n"
     ]
    }
   ],
   "source": [
    "%%time\n",
    "\n",
    "data_noise = open('make_noisy_ecg/emg_healthy.txt', encoding = \"ISO-8859-1\").readlines()\n",
    "\n",
    "records = ['sel100','sel114','sel16265','sel16272','sel16273','sel16420','sel16483','sel213','sel233','sel302','sel306',\n",
    "           'sel308','sel803','sel811','sel820','sel847','sel853','sel871','sel872','sel873','sel883','sel891',\n",
    "           'sele0110','sele0121','sele0129','sele0133','sele0170','sele0203','sele0405','sele0411',\n",
    "           'sele0509','sele0606'\n",
    "          ]\n",
    "signal_range = 1000\n",
    "step = 10\n",
    "noise = noiseGet(data_noise)\n",
    "data = list(zip(*recordProc(records)))\n",
    "X_t, Y_t = np.array(data[0]), MultiLabelBinarizer().fit_transform(data[1])"
   ]
  },
  {
   "cell_type": "code",
   "execution_count": 4,
   "metadata": {
    "colab": {
     "autoexec": {
      "startup": false,
      "wait_interval": 0
     },
     "base_uri": "https://localhost:8080/",
     "height": 347
    },
    "colab_type": "code",
    "executionInfo": {
     "elapsed": 922,
     "status": "ok",
     "timestamp": 1526147080213,
     "user": {
      "displayName": "Vlad Herasymiuk",
      "photoUrl": "//lh3.googleusercontent.com/-y3mWflDR-xA/AAAAAAAAAAI/AAAAAAAALRY/xUFHBVW8FlY/s50-c-k-no/photo.jpg",
      "userId": "110982600945200385791"
     },
     "user_tz": -180
    },
    "id": "nh0TTalAO0yY",
    "outputId": "96686ea3-e083-46e2-f727-d63df8bb42dc"
   },
   "outputs": [
    {
     "data": {
      "image/png": "[encoded data removed]",
      "text/plain": [
       "<Figure size 432x288 with 1 Axes>"
      ]
     },
     "metadata": {},
     "output_type": "display_data"
    }
   ],
   "source": [
    "plt.figure()\n",
    "plt.plot(X_t[:1000])\n",
    "plt.show()"
   ]
  },
  {
   "cell_type": "code",
   "execution_count": 5,
   "metadata": {
    "colab": {
     "autoexec": {
      "startup": false,
      "wait_interval": 0
     }
    },
    "colab_type": "code",
    "id": "XKmEt0IGCe5e"
   },
   "outputs": [],
   "source": [
    "s = 0\n",
    "for i in range(0, len(X_t), 1000):\n",
    "    try:\n",
    "        X_t[i:i+1000] = X_t[i:i+1000] + noise[s:s+1000]\n",
    "        s += 100\n",
    "    except:\n",
    "      s = 0\n",
    "      continue"
   ]
  },
  {
   "cell_type": "code",
   "execution_count": 6,
   "metadata": {
    "colab": {
     "autoexec": {
      "startup": false,
      "wait_interval": 0
     },
     "base_uri": "https://localhost:8080/",
     "height": 347
    },
    "colab_type": "code",
    "executionInfo": {
     "elapsed": 1146,
     "status": "ok",
     "timestamp": 1526147082291,
     "user": {
      "displayName": "Vlad Herasymiuk",
      "photoUrl": "//lh3.googleusercontent.com/-y3mWflDR-xA/AAAAAAAAAAI/AAAAAAAALRY/xUFHBVW8FlY/s50-c-k-no/photo.jpg",
      "userId": "110982600945200385791"
     },
     "user_tz": -180
    },
    "id": "lbx5L1pMO4aY",
    "outputId": "032b6cdf-ef54-491b-8b73-a4984cecbea2"
   },
   "outputs": [
    {
     "data": {
      "image/png": "[encoded data removed]",
      "text/plain": [
       "<Figure size 432x288 with 1 Axes>"
      ]
     },
     "metadata": {},
     "output_type": "display_data"
    }
   ],
   "source": [
    "plt.figure()\n",
    "plt.plot(X_t[:1000])\n",
    "plt.show()"
   ]
  },
  {
   "cell_type": "code",
   "execution_count": 7,
   "metadata": {
    "colab": {
     "autoexec": {
      "startup": false,
      "wait_interval": 0
     }
    },
    "colab_type": "code",
    "id": "oxQaagTykXF3"
   },
   "outputs": [],
   "source": [
    "X = np.reshape(X_t, (-1,1))\n",
    "scaler = StandardScaler()\n",
    "data = scaler.fit_transform(X)"
   ]
  },
  {
   "cell_type": "code",
   "execution_count": 8,
   "metadata": {
    "colab": {
     "autoexec": {
      "startup": false,
      "wait_interval": 0
     }
    },
    "colab_type": "code",
    "id": "wITSgi2VkXF5"
   },
   "outputs": [],
   "source": [
    "X = np.reshape(data, (int(len(data) / 1000), 1000,1))\n",
    "Y = np.reshape(Y_t, (int(len(Y_t) / 1000), 1000, 4))"
   ]
  },
  {
   "cell_type": "code",
   "execution_count": 9,
   "metadata": {
    "colab": {
     "autoexec": {
      "startup": false,
      "wait_interval": 0
     },
     "base_uri": "https://localhost:8080/",
     "height": 34
    },
    "colab_type": "code",
    "executionInfo": {
     "elapsed": 720,
     "status": "ok",
     "timestamp": 1526147098461,
     "user": {
      "displayName": "Vlad Herasymiuk",
      "photoUrl": "//lh3.googleusercontent.com/-y3mWflDR-xA/AAAAAAAAAAI/AAAAAAAALRY/xUFHBVW8FlY/s50-c-k-no/photo.jpg",
      "userId": "110982600945200385791"
     },
     "user_tz": -180
    },
    "id": "Y-7VmNAUkXF7",
    "outputId": "2ff7e47f-a2d1-48ae-cf5d-58cdc4270346"
   },
   "outputs": [
    {
     "data": {
      "text/plain": [
       "((11017, 1000, 1), (2755, 1000, 1), (11017, 1000, 4), (2755, 1000, 4))"
      ]
     },
     "execution_count": 9,
     "metadata": {},
     "output_type": "execute_result"
    }
   ],
   "source": [
    "train_size = int(X.shape[0] * 0.8)\n",
    "indices = np.random.permutation(X.shape[0])\n",
    "training_idxy, test_idxy = indices[:train_size], indices[train_size:]\n",
    "X_train, X_test = X[training_idxy,:,:], X[test_idxy,:,:]\n",
    "Y_train, Y_test = Y[training_idxy,:,:], Y[test_idxy,:,:]\n",
    "X_train.shape, X_test.shape, Y_train.shape, Y_test.shape"
   ]
  },
  {
   "cell_type": "code",
   "execution_count": 20,
   "metadata": {
    "colab": {
     "autoexec": {
      "startup": false,
      "wait_interval": 0
     }
    },
    "colab_type": "code",
    "id": "ccbVSMyUkXF-"
   },
   "outputs": [],
   "source": [
    "def base_model():\n",
    "    l2_lambda = 0.0001    \n",
    "    input_img = Input(shape=(1000, 1))\n",
    "\n",
    "    x = Convolution1D(256, 3, activation='relu', kernel_regularizer=l2(l2_lambda), padding='same')(input_img)\n",
    "    x = BatchNormalization(axis=1)(x)\n",
    "    x = MaxPooling1D(2, padding='same')(x)\n",
    "    x = Convolution1D(128, 3, activation='relu', kernel_regularizer=l2(l2_lambda), padding='same')(x)\n",
    "    x = BatchNormalization(axis=1)(x)\n",
    "    x = MaxPooling1D(2, padding='same')(x)\n",
    "    x = Convolution1D(128, 3, activation='relu', kernel_regularizer=l2(l2_lambda), padding='same')(x)\n",
    "    x = BatchNormalization(axis=1)(x)\n",
    "    encoded = MaxPooling1D(2, padding='same')(x)\n",
    "\n",
    "    x = Convolution1D(128, 3, activation='relu', kernel_regularizer=l2(l2_lambda), padding='same')(encoded)\n",
    "    x = BatchNormalization(axis=1)(x)\n",
    "    x = UpSampling1D(2)(x)\n",
    "    x = Convolution1D(128, 3, activation='relu', kernel_regularizer=l2(l2_lambda), padding='same')(x)\n",
    "    x = BatchNormalization(axis=1)(x)\n",
    "    x = UpSampling1D(2)(x)\n",
    "    x = Convolution1D(256, 3, activation='relu', kernel_regularizer=l2(l2_lambda), padding='same')(x)\n",
    "    x = BatchNormalization(axis=1)(x)\n",
    "    x = UpSampling1D(2)(x)\n",
    "    decoded = Convolution1D(4, 3, activation='softmax', kernel_regularizer=l2(l2_lambda) ,padding='same')(x)\n",
    "\n",
    "    autoencoder = Model(input_img, decoded)\n",
    "    autoencoder.compile(loss='categorical_crossentropy', optimizer='adadelta', metrics=['accuracy'])\n",
    "    return autoencoder"
   ]
  },
  {
   "cell_type": "code",
   "execution_count": 21,
   "metadata": {
    "colab": {
     "autoexec": {
      "startup": false,
      "wait_interval": 0
     },
     "base_uri": "https://localhost:8080/",
     "height": 816
    },
    "colab_type": "code",
    "executionInfo": {
     "elapsed": 2404,
     "status": "ok",
     "timestamp": 1526153644262,
     "user": {
      "displayName": "Vlad Herasymiuk",
      "photoUrl": "//lh3.googleusercontent.com/-y3mWflDR-xA/AAAAAAAAAAI/AAAAAAAALRY/xUFHBVW8FlY/s50-c-k-no/photo.jpg",
      "userId": "110982600945200385791"
     },
     "user_tz": -180
    },
    "id": "0Tfho3HXkXGA",
    "outputId": "39c73b54-421a-48c2-d7b3-669d61661375"
   },
   "outputs": [
    {
     "name": "stdout",
     "output_type": "stream",
     "text": [
      "_________________________________________________________________\n",
      "Layer (type)                 Output Shape              Param #   \n",
      "=================================================================\n",
      "input_2 (InputLayer)         (None, 1000, 1)           0         \n",
      "_________________________________________________________________\n",
      "conv1d_8 (Conv1D)            (None, 1000, 256)         1024      \n",
      "_________________________________________________________________\n",
      "batch_normalization_7 (Batch (None, 1000, 256)         4000      \n",
      "_________________________________________________________________\n",
      "max_pooling1d_4 (MaxPooling1 (None, 500, 256)          0         \n",
      "_________________________________________________________________\n",
      "conv1d_9 (Conv1D)            (None, 500, 128)          98432     \n",
      "_________________________________________________________________\n",
      "batch_normalization_8 (Batch (None, 500, 128)          2000      \n",
      "_________________________________________________________________\n",
      "max_pooling1d_5 (MaxPooling1 (None, 250, 128)          0         \n",
      "_________________________________________________________________\n",
      "conv1d_10 (Conv1D)           (None, 250, 128)          49280     \n",
      "_________________________________________________________________\n",
      "batch_normalization_9 (Batch (None, 250, 128)          1000      \n",
      "_________________________________________________________________\n",
      "max_pooling1d_6 (MaxPooling1 (None, 125, 128)          0         \n",
      "_________________________________________________________________\n",
      "conv1d_11 (Conv1D)           (None, 125, 128)          49280     \n",
      "_________________________________________________________________\n",
      "batch_normalization_10 (Batc (None, 125, 128)          500       \n",
      "_________________________________________________________________\n",
      "up_sampling1d_4 (UpSampling1 (None, 250, 128)          0         \n",
      "_________________________________________________________________\n",
      "conv1d_12 (Conv1D)           (None, 250, 128)          49280     \n",
      "_________________________________________________________________\n",
      "batch_normalization_11 (Batc (None, 250, 128)          1000      \n",
      "_________________________________________________________________\n",
      "up_sampling1d_5 (UpSampling1 (None, 500, 128)          0         \n",
      "_________________________________________________________________\n",
      "conv1d_13 (Conv1D)           (None, 500, 256)          98560     \n",
      "_________________________________________________________________\n",
      "batch_normalization_12 (Batc (None, 500, 256)          2000      \n",
      "_________________________________________________________________\n",
      "up_sampling1d_6 (UpSampling1 (None, 1000, 256)         0         \n",
      "_________________________________________________________________\n",
      "conv1d_14 (Conv1D)           (None, 1000, 4)           3076      \n",
      "=================================================================\n",
      "Total params: 359,432\n",
      "Trainable params: 354,182\n",
      "Non-trainable params: 5,250\n",
      "_________________________________________________________________\n"
     ]
    }
   ],
   "source": [
    "cnn_n = base_model()\n",
    "cnn_n.summary()"
   ]
  },
  {
   "cell_type": "code",
   "execution_count": 0,
   "metadata": {
    "colab": {
     "autoexec": {
      "startup": false,
      "wait_interval": 0
     }
    },
    "colab_type": "code",
    "id": "6_zGi39plyNx"
   },
   "outputs": [],
   "source": [
    "checkpointer = ModelCheckpoint(filepath=\"testtest.hdf5\", verbose=0, save_best_only=True)"
   ]
  },
  {
   "cell_type": "code",
   "execution_count": 60,
   "metadata": {
    "colab": {
     "autoexec": {
      "startup": false,
      "wait_interval": 0
     },
     "base_uri": "https://localhost:8080/",
     "height": 3488
    },
    "colab_type": "code",
    "executionInfo": {
     "elapsed": 3836806,
     "status": "ok",
     "timestamp": 1526157481949,
     "user": {
      "displayName": "Vlad Herasymiuk",
      "photoUrl": "//lh3.googleusercontent.com/-y3mWflDR-xA/AAAAAAAAAAI/AAAAAAAALRY/xUFHBVW8FlY/s50-c-k-no/photo.jpg",
      "userId": "110982600945200385791"
     },
     "user_tz": -180
    },
    "id": "lFjr59WVkXGE",
    "outputId": "2226842c-53b1-4477-c28f-df327c2e8266"
   },
   "outputs": [
    {
     "name": "stdout",
     "output_type": "stream",
     "text": [
      "Train on 11017 samples, validate on 2755 samples\n",
      "Epoch 1/101\n",
      "11017/11017 [==============================] - 46s 4ms/step - loss: 0.8721 - acc: 0.6755 - val_loss: 0.7812 - val_acc: 0.7045\n",
      "Epoch 2/101\n",
      " 4448/11017 [===========>..................] - ETA: 21s - loss: 0.5764 - acc: 0.783511017/11017 [==============================] - 38s 3ms/step - loss: 0.5382 - acc: 0.7996 - val_loss: 0.5384 - val_acc: 0.7949\n",
      "Epoch 3/101\n",
      "10528/11017 [===========================>..] - ETA: 1s - loss: 0.4583 - acc: 0.834011017/11017 [==============================] - 38s 3ms/step - loss: 0.4580 - acc: 0.8341 - val_loss: 0.4678 - val_acc: 0.8290\n",
      "Epoch 4/101\n",
      "11017/11017 [==============================] - 38s 3ms/step - loss: 0.4099 - acc: 0.8539 - val_loss: 0.4432 - val_acc: 0.8398\n",
      "Epoch 5/101\n",
      " 1312/11017 [==>...........................] - ETA: 30s - loss: 0.3969 - acc: 0.859611017/11017 [==============================] - 38s 3ms/step - loss: 0.3780 - acc: 0.8669 - val_loss: 0.3938 - val_acc: 0.8588\n",
      "Epoch 6/101\n",
      " 9536/11017 [========================>.....] - ETA: 4s - loss: 0.3551 - acc: 0.875211017/11017 [==============================] - 38s 3ms/step - loss: 0.3550 - acc: 0.8752 - val_loss: 0.4435 - val_acc: 0.8407\n",
      "Epoch 7/101\n",
      "11017/11017 [==============================] - 38s 3ms/step - loss: 0.3394 - acc: 0.8817 - val_loss: 0.3707 - val_acc: 0.8661\n",
      "Epoch 8/101\n",
      " 1088/11017 [=>............................] - ETA: 31s - loss: 0.3393 - acc: 0.880311017/11017 [==============================] - 38s 3ms/step - loss: 0.3247 - acc: 0.8862 - val_loss: 0.3774 - val_acc: 0.8632\n",
      "Epoch 9/101\n",
      " 9504/11017 [========================>.....] - ETA: 4s - loss: 0.3103 - acc: 0.891411017/11017 [==============================] - 38s 3ms/step - loss: 0.3101 - acc: 0.8914 - val_loss: 0.3515 - val_acc: 0.8748\n",
      "Epoch 10/101\n",
      "11017/11017 [==============================] - 38s 3ms/step - loss: 0.3003 - acc: 0.8946 - val_loss: 0.3259 - val_acc: 0.8826\n",
      "Epoch 11/101\n",
      " 1024/11017 [=>............................] - ETA: 31s - loss: 0.2971 - acc: 0.895211017/11017 [==============================] - 38s 3ms/step - loss: 0.2913 - acc: 0.8982 - val_loss: 0.3074 - val_acc: 0.8917\n",
      "Epoch 12/101\n",
      " 9376/11017 [========================>.....] - ETA: 5s - loss: 0.2809 - acc: 0.901411017/11017 [==============================] - 38s 3ms/step - loss: 0.2812 - acc: 0.9014 - val_loss: 0.2779 - val_acc: 0.9028\n",
      "Epoch 13/101\n",
      "11017/11017 [==============================] - 38s 3ms/step - loss: 0.2820 - acc: 0.9021 - val_loss: 0.2915 - val_acc: 0.8964\n",
      "Epoch 14/101\n",
      "  800/11017 [=>............................] - ETA: 32s - loss: 0.2622 - acc: 0.908211017/11017 [==============================] - 38s 3ms/step - loss: 0.2669 - acc: 0.9062 - val_loss: 0.3112 - val_acc: 0.8890\n",
      "Epoch 15/101\n",
      " 8992/11017 [=======================>......] - ETA: 6s - loss: 0.2625 - acc: 0.907511017/11017 [==============================] - 38s 3ms/step - loss: 0.2620 - acc: 0.9076 - val_loss: 0.2818 - val_acc: 0.8993\n",
      "Epoch 16/101\n",
      "11017/11017 [==============================] - 38s 3ms/step - loss: 0.2542 - acc: 0.9105 - val_loss: 0.3425 - val_acc: 0.8700\n",
      "Epoch 17/101\n",
      "  832/11017 [=>............................] - ETA: 32s - loss: 0.2578 - acc: 0.908511017/11017 [==============================] - 38s 3ms/step - loss: 0.2504 - acc: 0.9117 - val_loss: 0.3085 - val_acc: 0.8879\n",
      "Epoch 18/101\n",
      " 9216/11017 [========================>.....] - ETA: 5s - loss: 0.2442 - acc: 0.914011017/11017 [==============================] - 38s 3ms/step - loss: 0.2530 - acc: 0.9117 - val_loss: 0.2985 - val_acc: 0.8902\n",
      "Epoch 19/101\n",
      "11017/11017 [==============================] - 38s 3ms/step - loss: 0.2369 - acc: 0.9171 - val_loss: 0.2507 - val_acc: 0.9113\n",
      "Epoch 20/101\n",
      "  992/11017 [=>............................] - ETA: 31s - loss: 0.2341 - acc: 0.917511017/11017 [==============================] - 38s 3ms/step - loss: 0.2368 - acc: 0.9166 - val_loss: 0.2512 - val_acc: 0.9110\n",
      "Epoch 21/101\n",
      " 9568/11017 [=========================>....] - ETA: 4s - loss: 0.2311 - acc: 0.918911017/11017 [==============================] - 37s 3ms/step - loss: 0.2460 - acc: 0.9144 - val_loss: 0.2447 - val_acc: 0.9142\n",
      "Epoch 22/101\n",
      "11017/11017 [==============================] - 38s 3ms/step - loss: 0.2279 - acc: 0.9203 - val_loss: 0.2541 - val_acc: 0.9103\n",
      "Epoch 23/101\n",
      " 1088/11017 [=>............................] - ETA: 31s - loss: 0.2200 - acc: 0.923411017/11017 [==============================] - 38s 3ms/step - loss: 0.2255 - acc: 0.9209 - val_loss: 0.2603 - val_acc: 0.9084\n",
      "Epoch 24/101\n",
      " 9344/11017 [========================>.....] - ETA: 5s - loss: 0.2237 - acc: 0.921611017/11017 [==============================] - 38s 3ms/step - loss: 0.2230 - acc: 0.9219 - val_loss: 0.2301 - val_acc: 0.9190\n",
      "Epoch 25/101\n",
      "11017/11017 [==============================] - 38s 3ms/step - loss: 0.2211 - acc: 0.9224 - val_loss: 0.2441 - val_acc: 0.9137\n",
      "Epoch 26/101\n",
      "  832/11017 [=>............................] - ETA: 32s - loss: 0.2156 - acc: 0.925011017/11017 [==============================] - 38s 3ms/step - loss: 0.2171 - acc: 0.9239 - val_loss: 0.2579 - val_acc: 0.9086\n",
      "Epoch 27/101\n",
      " 9440/11017 [========================>.....] - ETA: 5s - loss: 0.2289 - acc: 0.921511017/11017 [==============================] - 38s 3ms/step - loss: 0.2267 - acc: 0.9220 - val_loss: 0.2592 - val_acc: 0.9083\n",
      "Epoch 28/101\n",
      "11017/11017 [==============================] - 38s 3ms/step - loss: 0.2144 - acc: 0.9253 - val_loss: 0.2507 - val_acc: 0.9107\n",
      "Epoch 29/101\n",
      " 1088/11017 [=>............................] - ETA: 32s - loss: 0.2096 - acc: 0.9211017/11017 [==============================] - 38s 3ms/step - loss: 0.2145 - acc: 0.9248 - val_loss: 0.3852 - val_acc: 0.8632\n",
      "Epoch 30/101\n",
      " 9920/11017 [==========================>...] - ETA: 3s - loss: 0.2103 - acc: 0.92611017/11017 [==============================] - 38s 3ms/step - loss: 0.2098 - acc: 0.9267 - val_loss: 0.3476 - val_acc: 0.8865\n",
      "Epoch 31/101\n",
      "11017/11017 [==============================] - 38s 3ms/step - loss: 0.2089 - acc: 0.9272 - val_loss: 0.2378 - val_acc: 0.9177\n",
      "Epoch 32/101\n",
      " 1024/11017 [=>............................] - ETA: 31s - loss: 0.1927 - acc: 0.933311017/11017 [==============================] - 38s 3ms/step - loss: 0.2066 - acc: 0.9282 - val_loss: 0.2593 - val_acc: 0.9071\n",
      "Epoch 33/101\n",
      " 9120/11017 [=======================>......] - ETA: 6s - loss: 0.2049 - acc: 0.928711017/11017 [==============================] - 38s 3ms/step - loss: 0.2043 - acc: 0.9289 - val_loss: 0.2519 - val_acc: 0.9101\n",
      "Epoch 34/101\n",
      "11017/11017 [==============================] - 37s 3ms/step - loss: 0.2025 - acc: 0.9297 - val_loss: 0.2677 - val_acc: 0.9042\n",
      "Epoch 35/101\n",
      "  896/11017 [=>............................] - ETA: 31s - loss: 0.2143 - acc: 0.924811017/11017 [==============================] - 38s 3ms/step - loss: 0.2014 - acc: 0.9302 - val_loss: 0.2890 - val_acc: 0.8980\n",
      "Epoch 36/101\n",
      " 9088/11017 [=======================>......] - ETA: 6s - loss: 0.2057 - acc: 0.929911017/11017 [==============================] - 38s 3ms/step - loss: 0.2052 - acc: 0.9298 - val_loss: 0.3711 - val_acc: 0.8632\n",
      "Epoch 37/101\n",
      "11017/11017 [==============================] - 38s 3ms/step - loss: 0.2001 - acc: 0.9307 - val_loss: 0.2398 - val_acc: 0.9150\n",
      "Epoch 38/101\n",
      "  800/11017 [=>............................] - ETA: 32s - loss: 0.1903 - acc: 0.934311017/11017 [==============================] - 38s 3ms/step - loss: 0.1978 - acc: 0.9314 - val_loss: 0.2417 - val_acc: 0.9162\n",
      "Epoch 39/101\n",
      " 9184/11017 [========================>.....] - ETA: 5s - loss: 0.2015 - acc: 0.931011017/11017 [==============================] - 38s 3ms/step - loss: 0.2009 - acc: 0.9310 - val_loss: 0.2159 - val_acc: 0.9246\n",
      "Epoch 40/101\n",
      "11017/11017 [==============================] - 38s 3ms/step - loss: 0.1959 - acc: 0.9324 - val_loss: 0.2958 - val_acc: 0.9012\n",
      "Epoch 41/101\n",
      "  864/11017 [=>............................] - ETA: 32s - loss: 0.2032 - acc: 0.930111017/11017 [==============================] - 38s 3ms/step - loss: 0.1953 - acc: 0.9326 - val_loss: 0.2100 - val_acc: 0.9267\n",
      "Epoch 42/101\n",
      " 9088/11017 [=======================>......] - ETA: 6s - loss: 0.1943 - acc: 0.933011017/11017 [==============================] - 38s 3ms/step - loss: 0.1955 - acc: 0.9325 - val_loss: 0.2343 - val_acc: 0.9172\n",
      "Epoch 43/101\n",
      "11017/11017 [==============================] - 38s 3ms/step - loss: 0.2023 - acc: 0.9308 - val_loss: 0.2087 - val_acc: 0.9280\n",
      "Epoch 44/101\n"
     ]
    },
    {
     "name": "stdout",
     "output_type": "stream",
     "text": [
      "  768/11017 [=>............................] - ETA: 32s - loss: 0.1837 - acc: 0.937311017/11017 [==============================] - 38s 3ms/step - loss: 0.1928 - acc: 0.9337 - val_loss: 0.3231 - val_acc: 0.8837\n",
      "Epoch 45/101\n",
      " 9120/11017 [=======================>......] - ETA: 5s - loss: 0.1960 - acc: 0.933011017/11017 [==============================] - 38s 3ms/step - loss: 0.1949 - acc: 0.9333 - val_loss: 0.2191 - val_acc: 0.9238\n",
      "Epoch 46/101\n",
      "11017/11017 [==============================] - 38s 3ms/step - loss: 0.1910 - acc: 0.9346 - val_loss: 0.3259 - val_acc: 0.8894\n",
      "Epoch 47/101\n",
      "  640/11017 [>.............................] - ETA: 32s - loss: 0.2138 - acc: 0.927511017/11017 [==============================] - 38s 3ms/step - loss: 0.1907 - acc: 0.9348 - val_loss: 0.2368 - val_acc: 0.9160\n",
      "Epoch 48/101\n",
      " 8896/11017 [=======================>......] - ETA: 6s - loss: 0.1932 - acc: 0.934811017/11017 [==============================] - 38s 3ms/step - loss: 0.1925 - acc: 0.9348 - val_loss: 0.2201 - val_acc: 0.9237\n",
      "Epoch 49/101\n",
      "11017/11017 [==============================] - 38s 3ms/step - loss: 0.2128 - acc: 0.9295 - val_loss: 0.2323 - val_acc: 0.9205\n",
      "Epoch 50/101\n",
      "  768/11017 [=>............................] - ETA: 32s - loss: 0.1886 - acc: 0.936211017/11017 [==============================] - 38s 3ms/step - loss: 0.1856 - acc: 0.9371 - val_loss: 0.2179 - val_acc: 0.9254\n",
      "Epoch 51/101\n",
      " 8896/11017 [=======================>......] - ETA: 6s - loss: 0.1871 - acc: 0.936411017/11017 [==============================] - 38s 3ms/step - loss: 0.1895 - acc: 0.9354 - val_loss: 0.2427 - val_acc: 0.9153\n",
      "Epoch 52/101\n",
      "11017/11017 [==============================] - 38s 3ms/step - loss: 0.1852 - acc: 0.9372 - val_loss: 0.2309 - val_acc: 0.9195\n",
      "Epoch 53/101\n",
      "  640/11017 [>.............................] - ETA: 32s - loss: 0.1916 - acc: 0.934611017/11017 [==============================] - 38s 3ms/step - loss: 0.1868 - acc: 0.9366 - val_loss: 0.2065 - val_acc: 0.9291\n",
      "Epoch 54/101\n",
      " 9216/11017 [========================>.....] - ETA: 5s - loss: 0.1848 - acc: 0.937611017/11017 [==============================] - 38s 3ms/step - loss: 0.1849 - acc: 0.9375 - val_loss: 0.2168 - val_acc: 0.9251\n",
      "Epoch 55/101\n",
      "11017/11017 [==============================] - 38s 3ms/step - loss: 0.1833 - acc: 0.9381 - val_loss: 0.2184 - val_acc: 0.9250\n",
      "Epoch 56/101\n",
      "  800/11017 [=>............................] - ETA: 32s - loss: 0.1842 - acc: 0.937411017/11017 [==============================] - 38s 3ms/step - loss: 0.1832 - acc: 0.9380 - val_loss: 0.2151 - val_acc: 0.9261\n",
      "Epoch 57/101\n",
      " 9280/11017 [========================>.....] - ETA: 5s - loss: 0.1871 - acc: 0.936611017/11017 [==============================] - 38s 3ms/step - loss: 0.1856 - acc: 0.9371 - val_loss: 0.2286 - val_acc: 0.9225\n",
      "Epoch 58/101\n",
      "11017/11017 [==============================] - 38s 3ms/step - loss: 0.1813 - acc: 0.9391 - val_loss: 0.2297 - val_acc: 0.9199\n",
      "Epoch 59/101\n",
      "  896/11017 [=>............................] - ETA: 31s - loss: 0.1741 - acc: 0.941811017/11017 [==============================] - 38s 3ms/step - loss: 0.1819 - acc: 0.9387 - val_loss: 0.2631 - val_acc: 0.9115\n",
      "Epoch 60/101\n",
      " 9280/11017 [========================>.....] - ETA: 5s - loss: 0.1919 - acc: 0.936011017/11017 [==============================] - 38s 3ms/step - loss: 0.1890 - acc: 0.9370 - val_loss: 0.2075 - val_acc: 0.9294\n",
      "Epoch 61/101\n",
      "11017/11017 [==============================] - 38s 3ms/step - loss: 0.1792 - acc: 0.9398 - val_loss: 0.2363 - val_acc: 0.9188\n",
      "Epoch 62/101\n",
      "  864/11017 [=>............................] - ETA: 32s - loss: 0.1786 - acc: 0.940211017/11017 [==============================] - 38s 3ms/step - loss: 0.1814 - acc: 0.9389 - val_loss: 0.2393 - val_acc: 0.9172\n",
      "Epoch 63/101\n",
      " 9056/11017 [=======================>......] - ETA: 6s - loss: 0.1775 - acc: 0.940611017/11017 [==============================] - 38s 3ms/step - loss: 0.1787 - acc: 0.9401 - val_loss: 0.2472 - val_acc: 0.9124\n",
      "Epoch 64/101\n",
      "11017/11017 [==============================] - 38s 3ms/step - loss: 0.1844 - acc: 0.9384 - val_loss: 0.2255 - val_acc: 0.9239\n",
      "Epoch 65/101\n",
      "  832/11017 [=>............................] - ETA: 32s - loss: 0.1649 - acc: 0.946311017/11017 [==============================] - 38s 3ms/step - loss: 0.1747 - acc: 0.9418 - val_loss: 0.2211 - val_acc: 0.9235\n",
      "Epoch 66/101\n",
      " 9312/11017 [========================>.....] - ETA: 5s - loss: 0.1791 - acc: 0.940111017/11017 [==============================] - 38s 3ms/step - loss: 0.1783 - acc: 0.9403 - val_loss: 0.2386 - val_acc: 0.9178\n",
      "Epoch 67/101\n",
      "11017/11017 [==============================] - 38s 3ms/step - loss: 0.1772 - acc: 0.9408 - val_loss: 0.2411 - val_acc: 0.9153\n",
      "Epoch 68/101\n",
      "  736/11017 [=>............................] - ETA: 32s - loss: 0.1840 - acc: 0.938111017/11017 [==============================] - 38s 3ms/step - loss: 0.1818 - acc: 0.9402 - val_loss: 0.2030 - val_acc: 0.9315\n",
      "Epoch 69/101\n",
      " 8928/11017 [=======================>......] - ETA: 6s - loss: 0.1768 - acc: 0.941011017/11017 [==============================] - 38s 3ms/step - loss: 0.1777 - acc: 0.9408 - val_loss: 0.2410 - val_acc: 0.9155\n",
      "Epoch 70/101\n",
      "11017/11017 [==============================] - 38s 3ms/step - loss: 0.1730 - acc: 0.9426 - val_loss: 0.2508 - val_acc: 0.9133\n",
      "Epoch 71/101\n",
      "  928/11017 [=>............................] - ETA: 32s - loss: 0.1875 - acc: 0.937211017/11017 [==============================] - 38s 3ms/step - loss: 0.1796 - acc: 0.9411 - val_loss: 0.1929 - val_acc: 0.9348\n",
      "Epoch 72/101\n",
      " 9280/11017 [========================>.....] - ETA: 5s - loss: 0.1756 - acc: 0.941711017/11017 [==============================] - 38s 3ms/step - loss: 0.1753 - acc: 0.9419 - val_loss: 0.2443 - val_acc: 0.9174\n",
      "Epoch 73/101\n",
      "11017/11017 [==============================] - 38s 3ms/step - loss: 0.1730 - acc: 0.9428 - val_loss: 0.2359 - val_acc: 0.9197\n",
      "Epoch 74/101\n",
      "  736/11017 [=>............................] - ETA: 32s - loss: 0.1748 - acc: 0.942211017/11017 [==============================] - 38s 3ms/step - loss: 0.1729 - acc: 0.9429 - val_loss: 0.2140 - val_acc: 0.9266\n",
      "Epoch 75/101\n",
      " 9024/11017 [=======================>......] - ETA: 6s - loss: 0.1738 - acc: 0.942411017/11017 [==============================] - 38s 3ms/step - loss: 0.1730 - acc: 0.9427 - val_loss: 0.2067 - val_acc: 0.9297\n",
      "Epoch 76/101\n",
      "11017/11017 [==============================] - 38s 3ms/step - loss: 0.1737 - acc: 0.9426 - val_loss: 0.2105 - val_acc: 0.9280\n",
      "Epoch 77/101\n",
      "  928/11017 [=>............................] - ETA: 32s - loss: 0.1569 - acc: 0.949411017/11017 [==============================] - 38s 3ms/step - loss: 0.2042 - acc: 0.9336 - val_loss: 0.2010 - val_acc: 0.9313\n",
      "Epoch 78/101\n",
      " 9312/11017 [========================>.....] - ETA: 5s - loss: 0.1720 - acc: 0.943811017/11017 [==============================] - 38s 3ms/step - loss: 0.1727 - acc: 0.9435 - val_loss: 0.2221 - val_acc: 0.9248\n",
      "Epoch 79/101\n",
      "11017/11017 [==============================] - 38s 3ms/step - loss: 0.1724 - acc: 0.9435 - val_loss: 0.2005 - val_acc: 0.9319\n",
      "Epoch 80/101\n",
      "  768/11017 [=>............................] - ETA: 32s - loss: 0.1654 - acc: 0.946411017/11017 [==============================] - 38s 3ms/step - loss: 0.1715 - acc: 0.9437 - val_loss: 0.2103 - val_acc: 0.9288\n",
      "Epoch 81/101\n",
      " 9216/11017 [========================>.....] - ETA: 5s - loss: 0.1689 - acc: 0.94411017/11017 [==============================] - 38s 3ms/step - loss: 0.1696 - acc: 0.9445 - val_loss: 0.2847 - val_acc: 0.8958\n",
      "Epoch 82/101\n",
      "11017/11017 [==============================] - 38s 3ms/step - loss: 0.1735 - acc: 0.9432 - val_loss: 0.2238 - val_acc: 0.9252\n",
      "Epoch 83/101\n",
      " 1024/11017 [=>............................] - ETA: 31s - loss: 0.1660 - acc: 0.945811017/11017 [==============================] - 38s 3ms/step - loss: 0.1780 - acc: 0.9425 - val_loss: 0.2030 - val_acc: 0.9314\n",
      "Epoch 84/101\n",
      " 9344/11017 [========================>.....] - ETA: 5s - loss: 0.1696 - acc: 0.944811017/11017 [==============================] - 38s 3ms/step - loss: 0.1697 - acc: 0.9447 - val_loss: 0.2158 - val_acc: 0.9264\n",
      "Epoch 85/101\n",
      "11017/11017 [==============================] - 38s 3ms/step - loss: 0.1735 - acc: 0.9442 - val_loss: 0.3317 - val_acc: 0.8953\n",
      "Epoch 86/101\n"
     ]
    },
    {
     "name": "stdout",
     "output_type": "stream",
     "text": [
      "  800/11017 [=>............................] - ETA: 32s - loss: 0.1850 - acc: 0.939711017/11017 [==============================] - 38s 3ms/step - loss: 0.1668 - acc: 0.9459 - val_loss: 0.2156 - val_acc: 0.9280\n",
      "Epoch 87/101\n",
      " 9344/11017 [========================>.....] - ETA: 5s - loss: 0.1686 - acc: 0.945111017/11017 [==============================] - 38s 3ms/step - loss: 0.1692 - acc: 0.9448 - val_loss: 0.1916 - val_acc: 0.9367\n",
      "Epoch 88/101\n",
      "11017/11017 [==============================] - 38s 3ms/step - loss: 0.1679 - acc: 0.9452 - val_loss: 0.2328 - val_acc: 0.9214\n",
      "Epoch 89/101\n",
      "  800/11017 [=>............................] - ETA: 32s - loss: 0.1694 - acc: 0.944811017/11017 [==============================] - 38s 3ms/step - loss: 0.1665 - acc: 0.9460 - val_loss: 0.2155 - val_acc: 0.9282\n",
      "Epoch 90/101\n",
      " 9184/11017 [========================>.....] - ETA: 5s - loss: 0.1684 - acc: 0.945411017/11017 [==============================] - 38s 3ms/step - loss: 0.1678 - acc: 0.9455 - val_loss: 0.2369 - val_acc: 0.9179\n",
      "Epoch 91/101\n",
      "11017/11017 [==============================] - 38s 3ms/step - loss: 0.1674 - acc: 0.9457 - val_loss: 0.1871 - val_acc: 0.9380\n",
      "Epoch 92/101\n",
      "  832/11017 [=>............................] - ETA: 32s - loss: 0.1604 - acc: 0.948011017/11017 [==============================] - 38s 3ms/step - loss: 0.1667 - acc: 0.9460 - val_loss: 0.1893 - val_acc: 0.9376\n",
      "Epoch 93/101\n",
      " 9568/11017 [=========================>....] - ETA: 4s - loss: 0.1667 - acc: 0.946011017/11017 [==============================] - 38s 3ms/step - loss: 0.1672 - acc: 0.9457 - val_loss: 0.2628 - val_acc: 0.9093\n",
      "Epoch 94/101\n",
      "11017/11017 [==============================] - 38s 3ms/step - loss: 0.1643 - acc: 0.9469 - val_loss: 0.2016 - val_acc: 0.9333\n",
      "Epoch 95/101\n",
      " 1024/11017 [=>............................] - ETA: 31s - loss: 0.1632 - acc: 0.947411017/11017 [==============================] - 38s 3ms/step - loss: 0.1776 - acc: 0.9429 - val_loss: 0.2191 - val_acc: 0.9284\n",
      "Epoch 96/101\n",
      " 9568/11017 [=========================>....] - ETA: 4s - loss: 0.1656 - acc: 0.946811017/11017 [==============================] - 38s 3ms/step - loss: 0.1654 - acc: 0.9468 - val_loss: 0.2054 - val_acc: 0.9312\n",
      "Epoch 97/101\n",
      "11017/11017 [==============================] - 38s 3ms/step - loss: 0.1652 - acc: 0.9469 - val_loss: 0.1917 - val_acc: 0.9361\n",
      "Epoch 98/101\n",
      " 1312/11017 [==>...........................] - ETA: 31s - loss: 0.1622 - acc: 0.947811017/11017 [==============================] - 38s 3ms/step - loss: 0.1873 - acc: 0.9406 - val_loss: 0.3219 - val_acc: 0.9085\n",
      "Epoch 99/101\n",
      " 8864/11017 [=======================>......] - ETA: 6s - loss: 0.1646 - acc: 0.947511017/11017 [==============================] - 38s 3ms/step - loss: 0.1641 - acc: 0.9476 - val_loss: 0.1946 - val_acc: 0.9355\n",
      "Epoch 100/101\n",
      "11017/11017 [==============================] - 38s 3ms/step - loss: 0.1660 - acc: 0.9468 - val_loss: 0.3585 - val_acc: 0.8906\n",
      "Epoch 101/101\n",
      "  768/11017 [=>............................]11017/11017 [==============================] - 38s 3ms/step - loss: 0.1641 - acc: 0.9475 - val_loss: 0.2054 - val_acc: 0.9310\n"
     ]
    }
   ],
   "source": [
    "cnn = cnn_n.fit(X_train, Y_train, batch_size=32, epochs=101, validation_data=(X_test,Y_test), callbacks=[checkpointer])"
   ]
  },
  {
   "cell_type": "code",
   "execution_count": 0,
   "metadata": {
    "colab": {
     "autoexec": {
      "startup": false,
      "wait_interval": 0
     }
    },
    "colab_type": "code",
    "id": "irU7a8ADl8lk"
   },
   "outputs": [],
   "source": [
    "cnn_n.load_weights('testtest.hdf5')"
   ]
  },
  {
   "cell_type": "code",
   "execution_count": 0,
   "metadata": {
    "colab": {
     "autoexec": {
      "startup": false,
      "wait_interval": 0
     }
    },
    "colab_type": "code",
    "id": "FLzyRB0cn-oR"
   },
   "outputs": [],
   "source": [
    "from google.colab import files \n",
    "files.download('testtest.hdf5')"
   ]
  },
  {
   "cell_type": "code",
   "execution_count": 22,
   "metadata": {},
   "outputs": [
    {
     "name": "stdout",
     "output_type": "stream",
     "text": [
      "2755/2755 [==============================] - 300s 109ms/step\n",
      "Test score: 0.3774911362278916\n",
      "Test accuracy: 0.8751448274740506\n"
     ]
    }
   ],
   "source": [
    "cnn_n.load_weights('lastweights.hdf5')\n",
    "score, acc = cnn_n.evaluate(X_test, Y_test)\n",
    "print('Test score:', score)\n",
    "print('Test accuracy:', acc)"
   ]
  },
  {
   "cell_type": "code",
   "execution_count": 13,
   "metadata": {
    "colab": {
     "autoexec": {
      "startup": false,
      "wait_interval": 0
     },
     "base_uri": "https://localhost:8080/",
     "height": 571
    },
    "colab_type": "code",
    "executionInfo": {
     "elapsed": 1485,
     "status": "ok",
     "timestamp": 1526157608269,
     "user": {
      "displayName": "Vlad Herasymiuk",
      "photoUrl": "//lh3.googleusercontent.com/-y3mWflDR-xA/AAAAAAAAAAI/AAAAAAAALRY/xUFHBVW8FlY/s50-c-k-no/photo.jpg",
      "userId": "110982600945200385791"
     },
     "user_tz": -180
    },
    "id": "L6zGIZ-fkXGG",
    "outputId": "28dd22f7-dfd3-454a-9536-6ed38583841d"
   },
   "outputs": [
    {
     "ename": "NameError",
     "evalue": "name 'cnn' is not defined",
     "output_type": "error",
     "traceback": [
      "\u001b[0;31m---------------------------------------------------------------------------\u001b[0m",
      "\u001b[0;31mNameError\u001b[0m                                 Traceback (most recent call last)",
      "\u001b[0;32m<ipython-input-13-5c9f86e98681>\u001b[0m in \u001b[0;36m<module>\u001b[0;34m()\u001b[0m\n\u001b[1;32m      1\u001b[0m \u001b[0mplt\u001b[0m\u001b[0;34m.\u001b[0m\u001b[0mfigure\u001b[0m\u001b[0;34m(\u001b[0m\u001b[0;36m0\u001b[0m\u001b[0;34m)\u001b[0m\u001b[0;34m\u001b[0m\u001b[0m\n\u001b[0;32m----> 2\u001b[0;31m \u001b[0mplt\u001b[0m\u001b[0;34m.\u001b[0m\u001b[0mplot\u001b[0m\u001b[0;34m(\u001b[0m\u001b[0mcnn\u001b[0m\u001b[0;34m.\u001b[0m\u001b[0mhistory\u001b[0m\u001b[0;34m[\u001b[0m\u001b[0;34m'acc'\u001b[0m\u001b[0;34m]\u001b[0m\u001b[0;34m,\u001b[0m\u001b[0;34m'r'\u001b[0m\u001b[0;34m)\u001b[0m\u001b[0;34m\u001b[0m\u001b[0m\n\u001b[0m\u001b[1;32m      3\u001b[0m \u001b[0mplt\u001b[0m\u001b[0;34m.\u001b[0m\u001b[0mplot\u001b[0m\u001b[0;34m(\u001b[0m\u001b[0mcnn\u001b[0m\u001b[0;34m.\u001b[0m\u001b[0mhistory\u001b[0m\u001b[0;34m[\u001b[0m\u001b[0;34m'val_acc'\u001b[0m\u001b[0;34m]\u001b[0m\u001b[0;34m,\u001b[0m\u001b[0;34m'g'\u001b[0m\u001b[0;34m)\u001b[0m\u001b[0;34m\u001b[0m\u001b[0m\n\u001b[1;32m      4\u001b[0m \u001b[0mplt\u001b[0m\u001b[0;34m.\u001b[0m\u001b[0mxticks\u001b[0m\u001b[0;34m(\u001b[0m\u001b[0mnp\u001b[0m\u001b[0;34m.\u001b[0m\u001b[0marange\u001b[0m\u001b[0;34m(\u001b[0m\u001b[0;36m0\u001b[0m\u001b[0;34m,\u001b[0m \u001b[0;36m101\u001b[0m\u001b[0;34m,\u001b[0m \u001b[0;36m10.0\u001b[0m\u001b[0;34m)\u001b[0m\u001b[0;34m)\u001b[0m\u001b[0;34m\u001b[0m\u001b[0m\n\u001b[1;32m      5\u001b[0m \u001b[0mplt\u001b[0m\u001b[0;34m.\u001b[0m\u001b[0mrcParams\u001b[0m\u001b[0;34m[\u001b[0m\u001b[0;34m'figure.figsize'\u001b[0m\u001b[0;34m]\u001b[0m \u001b[0;34m=\u001b[0m \u001b[0;34m(\u001b[0m\u001b[0;36m6\u001b[0m\u001b[0;34m,\u001b[0m\u001b[0;36m4\u001b[0m\u001b[0;34m)\u001b[0m\u001b[0;34m\u001b[0m\u001b[0m\n",
      "\u001b[0;31mNameError\u001b[0m: name 'cnn' is not defined"
     ]
    },
    {
     "data": {
      "text/plain": [
       "<Figure size 432x288 with 0 Axes>"
      ]
     },
     "metadata": {},
     "output_type": "display_data"
    }
   ],
   "source": [
    "plt.figure(0)\n",
    "plt.plot(cnn.history['acc'],'r')\n",
    "plt.plot(cnn.history['val_acc'],'g')\n",
    "plt.xticks(np.arange(0, 101, 10.0))\n",
    "plt.rcParams['figure.figsize'] = (6,4)\n",
    "plt.xlabel(\"Num of Epochs\")\n",
    "plt.ylabel(\"Accuracy\")\n",
    "plt.title(\"Training Accuracy vs Validation Accuracy\")\n",
    "plt.legend(['train','validation'])\n",
    " \n",
    "plt.figure(1)\n",
    "plt.plot(cnn.history['loss'],'r')\n",
    "plt.plot(cnn.history['val_loss'],'g')\n",
    "plt.xticks(np.arange(0, 101, 10.0))\n",
    "plt.rcParams['figure.figsize'] = (6, 4)\n",
    "plt.xlabel(\"Num of Epochs\")\n",
    "plt.ylabel(\"Loss\")\n",
    "plt.title(\"Training Loss vs Validation Loss\")\n",
    "plt.legend(['train','validation'])\n",
    " \n",
    "plt.show()"
   ]
  },
  {
   "cell_type": "code",
   "execution_count": 14,
   "metadata": {
    "colab": {
     "autoexec": {
      "startup": false,
      "wait_interval": 0
     },
     "base_uri": "https://localhost:8080/",
     "height": 34
    },
    "colab_type": "code",
    "executionInfo": {
     "elapsed": 3536,
     "status": "ok",
     "timestamp": 1526157616072,
     "user": {
      "displayName": "Vlad Herasymiuk",
      "photoUrl": "//lh3.googleusercontent.com/-y3mWflDR-xA/AAAAAAAAAAI/AAAAAAAALRY/xUFHBVW8FlY/s50-c-k-no/photo.jpg",
      "userId": "110982600945200385791"
     },
     "user_tz": -180
    },
    "id": "2lHQmFabkXGd",
    "outputId": "10b288d5-fda8-4c35-c0ed-36773e19b05b"
   },
   "outputs": [
    {
     "name": "stdout",
     "output_type": "stream",
     "text": [
      "Accuracy: 87.51%\n"
     ]
    }
   ],
   "source": [
    "scores = cnn_n.evaluate(X_test, Y_test, verbose=0)\n",
    "print(\"Accuracy: %.2f%%\" % (scores[1]*100))"
   ]
  },
  {
   "cell_type": "code",
   "execution_count": 19,
   "metadata": {
    "colab": {
     "autoexec": {
      "startup": false,
      "wait_interval": 0
     },
     "base_uri": "https://localhost:8080/",
     "height": 405
    },
    "colab_type": "code",
    "executionInfo": {
     "elapsed": 4997,
     "status": "ok",
     "timestamp": 1526157623881,
     "user": {
      "displayName": "Vlad Herasymiuk",
      "photoUrl": "//lh3.googleusercontent.com/-y3mWflDR-xA/AAAAAAAAAAI/AAAAAAAALRY/xUFHBVW8FlY/s50-c-k-no/photo.jpg",
      "userId": "110982600945200385791"
     },
     "user_tz": -180
    },
    "id": "bFrvzaWJo_g2",
    "outputId": "2cb61881-8f7e-4cbd-86ff-f3bef1007947"
   },
   "outputs": [
    {
     "data": {
      "image/png": "[encoded data removed]",
      "text/plain": [
       "<Figure size 576x216 with 1 Axes>"
      ]
     },
     "metadata": {},
     "output_type": "display_data"
    },
    {
     "data": {
      "image/png": "[encoded data removed]",
      "text/plain": [
       "<Figure size 576x216 with 1 Axes>"
      ]
     },
     "metadata": {},
     "output_type": "display_data"
    }
   ],
   "source": [
    "alpha = 0.2\n",
    "a = 150\n",
    "plt.figure(figsize=(8,3))\n",
    "plt.plot(np.arange(0, 1000), X_test[a,:,:])\n",
    "for i,v in enumerate(Y_test[a,:,:]):\n",
    "      if list(v) == [ 0,  0,  0,  1]:\n",
    "          plt.axvline(i, color = 'yellow', alpha=alpha)\n",
    "      if list(v) == [ 0,  0,  1,  0]:\n",
    "          plt.axvline(i, color = 'black', alpha=alpha)\n",
    "      if list(v) == [ 0,  1,  0,  0]:\n",
    "          plt.axvline(i, color = 'red', alpha=alpha)\n",
    "      if list(v) == [ 1,  0,  0,  0]:\n",
    "          continue\n",
    "\n",
    "plt.figure(figsize=(8,3))\n",
    "plt.plot(np.arange(0, 1000), X_test[a,:,:])\n",
    "pred = cnn_n.predict(np.array([X_test[a,:,:]]))[0]\n",
    "pred = np.rint(pred)\n",
    "\n",
    "for i,v in enumerate(pred):\n",
    "      if list(v) == [ 0.,  0.,  0.,  1.]:\n",
    "          plt.axvline(i, color = 'yellow', alpha=alpha)\n",
    "      if list(v) == [ 0.,  0.,  1.,  0.]:\n",
    "          plt.axvline(i, color = 'black', alpha=alpha)\n",
    "      if list(v) == [ 0.,  1.,  0.,  0.]:\n",
    "          plt.axvline(i, color = 'red', alpha=alpha)\n",
    "      if list(v) == [ 1.,  0.,  0.,  0.]:\n",
    "         continue\n",
    "\n",
    "plt.show()\n",
    "plt.show()"
   ]
  },
  {
   "cell_type": "code",
   "execution_count": 0,
   "metadata": {
    "colab": {
     "autoexec": {
      "startup": false,
      "wait_interval": 0
     }
    },
    "colab_type": "code",
    "id": "kzGqR2TTXDy3"
   },
   "outputs": [],
   "source": []
  }
 ],
 "metadata": {
  "accelerator": "GPU",
  "colab": {
   "collapsed_sections": [],
   "default_view": {},
   "name": "records_functions_(1) (3).ipynb",
   "provenance": [],
   "version": "0.3.2",
   "views": {}
  },
  "kernelspec": {
   "display_name": "Python 3",
   "language": "python",
   "name": "python3"
  },
  "language_info": {
   "codemirror_mode": {
    "name": "ipython",
    "version": 3
   },
   "file_extension": ".py",
   "mimetype": "text/x-python",
   "name": "python",
   "nbconvert_exporter": "python",
   "pygments_lexer": "ipython3",
   "version": "3.6.5"
  }
 },
 "nbformat": 4,
 "nbformat_minor": 1
}
